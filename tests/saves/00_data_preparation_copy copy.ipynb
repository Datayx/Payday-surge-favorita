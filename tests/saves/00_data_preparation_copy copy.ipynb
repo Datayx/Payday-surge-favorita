{
 "cells": [
  {
   "cell_type": "markdown",
   "id": "bf9e9cc7",
   "metadata": {},
   "source": [
    "### TRAIN.CSV"
   ]
  },
  {
   "cell_type": "code",
   "execution_count": 7,
   "id": "90e1624e",
   "metadata": {},
   "outputs": [],
   "source": [
    "import py7zr\n",
    "from pathlib import Path\n",
    "\n",
    "raw_dir = Path(\"data/raw\")\n",
    "\n",
    "for file in raw_dir.glob(\"*.7z\"):\n",
    "    with py7zr.SevenZipFile(file, mode='r') as archive:\n",
    "        archive.extractall(path=raw_dir)\n"
   ]
  },
  {
   "cell_type": "markdown",
   "id": "1566e03b",
   "metadata": {},
   "source": [
    "### 1) Load and inspect shapes/types and missing values:"
   ]
  },
  {
   "cell_type": "code",
   "execution_count": null,
   "id": "be2f803f",
   "metadata": {},
   "outputs": [
    {
     "name": "stdout",
     "output_type": "stream",
     "text": [
      "Shape: (125497040, 5)\n",
      "        date  store_nbr  item_nbr  unit_sales onpromotion\n",
      "0 2013-01-01         25    103665         7.0         NaN\n",
      "1 2013-01-01         25    105574         1.0         NaN\n",
      "2 2013-01-01         25    105575         2.0         NaN\n",
      "<class 'pandas.core.frame.DataFrame'>\n",
      "RangeIndex: 125497040 entries, 0 to 125497039\n",
      "Data columns (total 5 columns):\n",
      " #   Column       Dtype         \n",
      "---  ------       -----         \n",
      " 0   date         datetime64[ns]\n",
      " 1   store_nbr    int16         \n",
      " 2   item_nbr     int32         \n",
      " 3   unit_sales   float32       \n",
      " 4   onpromotion  object        \n",
      "dtypes: datetime64[ns](1), float32(1), int16(1), int32(1), object(1)\n",
      "memory usage: 3.0+ GB\n",
      "None\n",
      "Date range: 2013-01-01 00:00:00 → 2017-08-15 00:00:00\n",
      "Missing values (top):\n",
      " onpromotion    21657651\n",
      "date                  0\n",
      "store_nbr             0\n",
      "item_nbr              0\n",
      "unit_sales            0\n",
      "dtype: int64\n"
     ]
    }
   ],
   "source": [
    "\n",
    "import pandas as pd, numpy as np\n",
    "from pathlib import Path\n",
    "\n",
    "PATH = r\"C:\\Users\\Yizi\\New folder\\Payday-surge-favorita\\data\\raw\\train.csv\"\n",
    "\n",
    "USECOLS = [\"date\",\"store_nbr\",\"item_nbr\",\"unit_sales\",\"onpromotion\"]\n",
    "DTYPES  = {\"store_nbr\":\"int16\",\"item_nbr\":\"int32\",\"unit_sales\":\"float32\"}\n",
    "\n",
    "df = pd.read_csv(PATH, usecols=USECOLS, parse_dates=[\"date\"], dtype=DTYPES, low_memory=False)\n",
    "\n",
    "print(\"Shape:\", df.shape)                 # → rows, cols\n",
    "print(df.head(3))                         # → first rows look sane?\n",
    "print(df.info())                          # → dtypes are as expected\n",
    "print(\"Date range:\", df[\"date\"].min(), \"→\", df[\"date\"].max())\n",
    "\n",
    "na = df.isna().sum().sort_values(ascending=False)\n",
    "print(\"Missing values (top):\\n\", na.head(10))   # → `onpromotion` will have many NaNs (expected)\n"
   ]
  },
  {
   "cell_type": "markdown",
   "id": "f39f4fab",
   "metadata": {},
   "source": [
    "### 2) Standardize Schema"
   ]
  },
  {
   "cell_type": "code",
   "execution_count": null,
   "id": "9a3cf871",
   "metadata": {},
   "outputs": [
    {
     "name": "stdout",
     "output_type": "stream",
     "text": [
      "onpromotion dtype: bool\n",
      "onpromotion uniques: [False  True]\n",
      "Remaining NA counts:\n",
      " date           0\n",
      "store_nbr      0\n",
      "item_nbr       0\n",
      "unit_sales     0\n",
      "onpromotion    0\n",
      "dtype: int64\n"
     ]
    }
   ],
   "source": [
    "\n",
    "df[\"onpromotion\"] = (\n",
    "    df[\"onpromotion\"]\n",
    "      .map({True: True, False: False, \"True\": True, \"False\": False, 1: True, 0: False})\n",
    "      .astype(\"boolean\")   # nullable boolean to avoid FutureWarning\n",
    "      .fillna(False)       # NA = not on promotion\n",
    "      .astype(bool)        # final dtype: bool\n",
    ")\n",
    "\n",
    "df = df.dropna(subset=[\"unit_sales\"])  \n",
    "\n",
    "print(\"onpromotion dtype:\", df[\"onpromotion\"].dtype)    # Output: bool\n",
    "print(\"onpromotion uniques:\", df[\"onpromotion\"].unique())  # Output: [True False]\n",
    "print(\"Remaining NA counts:\\n\", df.isna().sum())       \n"
   ]
  },
  {
   "cell_type": "markdown",
   "id": "86a08f6f",
   "metadata": {},
   "source": [
    "### 3) Cleaning:"
   ]
  },
  {
   "cell_type": "code",
   "execution_count": null,
   "id": "900df527",
   "metadata": {},
   "outputs": [
    {
     "name": "stdout",
     "output_type": "stream",
     "text": [
      "Duplicate keys before groupby: 0\n",
      "Duplicate keys after groupby: 0\n"
     ]
    }
   ],
   "source": [
    "\n",
    "\n",
    "df[\"was_return\"] = df[\"unit_sales\"] < 0\n",
    "\n",
    "dup_before = df.duplicated(subset=[\"date\",\"store_nbr\",\"item_nbr\"]).sum()\n",
    "print(\"Duplicate keys before groupby:\", dup_before)\n",
    "\n",
    "df = (df.groupby([\"date\",\"store_nbr\",\"item_nbr\"], as_index=False)\n",
    "        .agg(unit_sales=(\"unit_sales\",\"sum\"),\n",
    "             onpromotion=(\"onpromotion\",\"max\"),\n",
    "             was_return=(\"was_return\",\"any\")))\n",
    "\n",
    "dup_after = df.duplicated(subset=[\"date\",\"store_nbr\",\"item_nbr\"]).sum()\n",
    "print(\"Duplicate keys after groupby:\", dup_after)   \n"
   ]
  },
  {
   "cell_type": "markdown",
   "id": "eaf0e69f",
   "metadata": {},
   "source": [
    "### 4) Clipping negatives, capped extreme outliers and applied log1p transformation:"
   ]
  },
  {
   "cell_type": "code",
   "execution_count": null,
   "id": "5c44715d",
   "metadata": {},
   "outputs": [
    {
     "name": "stdout",
     "output_type": "stream",
     "text": [
      "count    1.254970e+08\n",
      "mean     8.556009e+00\n",
      "std      2.352696e+01\n",
      "min      0.000000e+00\n",
      "50%      4.000000e+00\n",
      "99%      7.100000e+01\n",
      "99.9%    2.127619e+02\n",
      "max      8.944000e+04\n",
      "Name: unit_sales_clipped, dtype: float64\n"
     ]
    }
   ],
   "source": [
    "\n",
    "df[\"unit_sales_clipped\"] = df[\"unit_sales\"].clip(lower=0).astype(\"float32\")\n",
    "\n",
    "cap = df[\"unit_sales_clipped\"].quantile(0.999) \n",
    "df[\"unit_sales_capped\"] = np.minimum(df[\"unit_sales_clipped\"], cap).astype(\"float32\")\n",
    "\n",
    "df[\"unit_sales_log1p\"] = np.log1p(df[\"unit_sales_capped\"]).astype(\"float32\")\n",
    "\n",
    "print(df[\"unit_sales_clipped\"].describe(percentiles=[0.99,0.999]))\n"
   ]
  },
  {
   "cell_type": "markdown",
   "id": "6d056d72",
   "metadata": {},
   "source": [
    "### 5) Validation (no null keys, unique keys, clipped ≥ 0):"
   ]
  },
  {
   "cell_type": "code",
   "execution_count": null,
   "id": "0a90c59f",
   "metadata": {},
   "outputs": [
    {
     "name": "stdout",
     "output_type": "stream",
     "text": [
      "Nulls in keys:\n",
      " date         0\n",
      "store_nbr    0\n",
      "item_nbr     0\n",
      "dtype: int64\n",
      "Duplicate keys: 0\n",
      "Min clipped: 0.0\n",
      "Validation passed\n"
     ]
    }
   ],
   "source": [
    "\n",
    "\n",
    "print(\"Nulls in keys:\\n\", df[[\"date\",\"store_nbr\",\"item_nbr\"]].isna().sum())\n",
    "print(\"Duplicate keys:\", df.duplicated(subset=[\"date\",\"store_nbr\",\"item_nbr\"]).sum())\n",
    "print(\"Min clipped:\", df[\"unit_sales_clipped\"].min())\n",
    "\n",
    "assert df[[\"date\",\"store_nbr\",\"item_nbr\"]].isna().sum().sum() == 0\n",
    "assert df.duplicated(subset=[\"date\",\"store_nbr\",\"item_nbr\"]).sum() == 0\n",
    "assert df[\"unit_sales_clipped\"].min() >= 0.0\n",
    "print(\"Validation passed\")\n"
   ]
  },
  {
   "cell_type": "markdown",
   "id": "4a19d7a9",
   "metadata": {},
   "source": [
    "### 6)  Save to Parquet (partitioned):"
   ]
  },
  {
   "cell_type": "code",
   "execution_count": 1,
   "id": "c25083de",
   "metadata": {},
   "outputs": [
    {
     "ename": "NameError",
     "evalue": "name 'df' is not defined",
     "output_type": "error",
     "traceback": [
      "\u001b[31m---------------------------------------------------------------------------\u001b[39m",
      "\u001b[31mNameError\u001b[39m                                 Traceback (most recent call last)",
      "\u001b[36mCell\u001b[39m\u001b[36m \u001b[39m\u001b[32mIn[1]\u001b[39m\u001b[32m, line 9\u001b[39m\n\u001b[32m      6\u001b[39m out_dir = Path(\u001b[33m\"\u001b[39m\u001b[33mdata/processed/train_clean_parquet\u001b[39m\u001b[33m\"\u001b[39m)\n\u001b[32m      7\u001b[39m out_dir.mkdir(parents=\u001b[38;5;28;01mTrue\u001b[39;00m, exist_ok=\u001b[38;5;28;01mTrue\u001b[39;00m)\n\u001b[32m----> \u001b[39m\u001b[32m9\u001b[39m df[\u001b[33m\"\u001b[39m\u001b[33mdow\u001b[39m\u001b[33m\"\u001b[39m]   = \u001b[43mdf\u001b[49m[\u001b[33m\"\u001b[39m\u001b[33mdate\u001b[39m\u001b[33m\"\u001b[39m].dt.dayofweek.astype(\u001b[33m\"\u001b[39m\u001b[33mint8\u001b[39m\u001b[33m\"\u001b[39m)\n\u001b[32m     10\u001b[39m df[\u001b[33m\"\u001b[39m\u001b[33myear\u001b[39m\u001b[33m\"\u001b[39m]  = df[\u001b[33m\"\u001b[39m\u001b[33mdate\u001b[39m\u001b[33m\"\u001b[39m].dt.year.astype(\u001b[33m\"\u001b[39m\u001b[33mint16\u001b[39m\u001b[33m\"\u001b[39m)\n\u001b[32m     11\u001b[39m df[\u001b[33m\"\u001b[39m\u001b[33mmonth\u001b[39m\u001b[33m\"\u001b[39m] = df[\u001b[33m\"\u001b[39m\u001b[33mdate\u001b[39m\u001b[33m\"\u001b[39m].dt.month.astype(\u001b[33m\"\u001b[39m\u001b[33mint8\u001b[39m\u001b[33m\"\u001b[39m)\n",
      "\u001b[31mNameError\u001b[39m: name 'df' is not defined"
     ]
    }
   ],
   "source": [
    "import pandas as pd\n",
    "import pyarrow as pa\n",
    "import pyarrow.parquet as pq\n",
    "from pathlib import Path\n",
    "\n",
    "out_dir = Path(\"data/processed/train_clean_parquet\")\n",
    "out_dir.mkdir(parents=True, exist_ok=True)\n",
    "\n",
    "df[\"dow\"]   = df[\"date\"].dt.dayofweek.astype(\"int8\")\n",
    "df[\"year\"]  = df[\"date\"].dt.year.astype(\"int16\")\n",
    "df[\"month\"] = df[\"date\"].dt.month.astype(\"int8\")\n",
    "\n",
    "pq.write_to_dataset(\n",
    "    pa.Table.from_pandas(df, preserve_index=False),\n",
    "    root_path=str(out_dir),\n",
    "    partition_cols=[\"year\",\"month\"],\n",
    "    compression=\"zstd\",\n",
    "    use_dictionary=True\n",
    ")\n",
    "print(\"Saved →\", out_dir)\n",
    "\n",
    "\n"
   ]
  },
  {
   "cell_type": "markdown",
   "id": "043384a8",
   "metadata": {},
   "source": [
    "### ITEMS.CSV"
   ]
  },
  {
   "cell_type": "code",
   "execution_count": 12,
   "id": "eb3a74ee",
   "metadata": {},
   "outputs": [
    {
     "name": "stdout",
     "output_type": "stream",
     "text": [
      "(4100, 4)\n",
      "   item_nbr        family  class  perishable\n",
      "0     96995     GROCERY I   1093           0\n",
      "1     99197     GROCERY I   1067           0\n",
      "2    103501      CLEANING   3008           0\n",
      "3    103520     GROCERY I   1028           0\n",
      "4    103665  BREAD/BAKERY   2712           1\n",
      "<class 'pandas.core.frame.DataFrame'>\n",
      "RangeIndex: 4100 entries, 0 to 4099\n",
      "Data columns (total 4 columns):\n",
      " #   Column      Non-Null Count  Dtype \n",
      "---  ------      --------------  ----- \n",
      " 0   item_nbr    4100 non-null   int64 \n",
      " 1   family      4100 non-null   object\n",
      " 2   class       4100 non-null   int64 \n",
      " 3   perishable  4100 non-null   int64 \n",
      "dtypes: int64(3), object(1)\n",
      "memory usage: 128.2+ KB\n",
      "None\n",
      "item_nbr      0\n",
      "family        0\n",
      "class         0\n",
      "perishable    0\n",
      "dtype: int64\n",
      "0\n"
     ]
    }
   ],
   "source": [
    "import pandas as pd  \n",
    "\n",
    "#Load items.csv\n",
    "items = pd.read_csv(r\"C:\\Users\\Yizi\\New folder\\Payday-surge-favorita\\data\\raw\\items.csv\")\n",
    "\n",
    "\n",
    "print(items.shape)\n",
    "print(items.head())\n",
    "print(items.info())\n",
    "\n",
    "# Check missing values\n",
    "print(items.isnull().sum())\n",
    "\n",
    "# Check duplicates\n",
    "print(items.duplicated().sum())\n",
    "\n",
    "# Standardize family names (strip spaces, lowercase)\n",
    "items[\"family\"] = items[\"family\"].str.strip().str.lower()\n",
    "\n",
    "# Convert perishable to boolean.\n",
    "items[\"perishable\"] = items[\"perishable\"].astype(bool)\n",
    "\n",
    "items.to_parquet(\"../data/processed/items.parquet\", index=False)"
   ]
  },
  {
   "cell_type": "markdown",
   "id": "86945f2c",
   "metadata": {},
   "source": [
    "### STORES.CSV"
   ]
  },
  {
   "cell_type": "code",
   "execution_count": 10,
   "id": "ade253e5",
   "metadata": {},
   "outputs": [
    {
     "name": "stdout",
     "output_type": "stream",
     "text": [
      "(54, 5)\n",
      "   store_nbr           city                           state type  cluster\n",
      "0          1          Quito                       Pichincha    D       13\n",
      "1          2          Quito                       Pichincha    D       13\n",
      "2          3          Quito                       Pichincha    D        8\n",
      "3          4          Quito                       Pichincha    D        9\n",
      "4          5  Santo Domingo  Santo Domingo de los Tsachilas    D        4\n",
      "store_nbr    0\n",
      "city         0\n",
      "state        0\n",
      "type         0\n",
      "cluster      0\n",
      "dtype: int64\n"
     ]
    }
   ],
   "source": [
    "# Load stores.csv\n",
    "stores = pd.read_csv(r\"C:\\Users\\Yizi\\New folder\\Payday-surge-favorita\\data\\raw\\stores.csv\")\n",
    "\n",
    "\n",
    "# Basic checks\n",
    "print(stores.shape)\n",
    "print(stores.head())\n",
    "print(stores.isna().sum())\n",
    "\n",
    "# Clean text columns, Strip whitespace, standardize casing (city/state = Title, type = uppercase).\n",
    "stores[\"city\"] = stores[\"city\"].str.strip().str.title()\n",
    "stores[\"state\"] = stores[\"state\"].str.strip().str.title()\n",
    "stores[\"type\"] = stores[\"type\"].str.strip().str.upper()\n",
    "\n",
    "# Dtypes\n",
    "stores[\"store_nbr\"] = stores[\"store_nbr\"].astype(\"int16\")\n",
    "stores[\"cluster\"] = stores[\"cluster\"].astype(\"Int16\")\n",
    "\n",
    "# Check store_nbr uniqueness\n",
    "assert stores[\"store_nbr\"].is_unique\n",
    "\n",
    "# Save to parquet\n",
    "stores.to_parquet(\"../data/processed/stores.parquet\", index=False)\n"
   ]
  },
  {
   "cell_type": "markdown",
   "id": "60b42046",
   "metadata": {},
   "source": [
    "### TRANSACTIONS.CSV"
   ]
  },
  {
   "cell_type": "markdown",
   "id": "5fb9027e",
   "metadata": {},
   "source": [
    "- Convert `date` to a datetime, `store_nbr` to a small int and `transactions` to int.\n",
    "- Check for duplicates on `store_nbr`and `date`\n",
    "- Counts should be non-negative."
   ]
  },
  {
   "cell_type": "code",
   "execution_count": 9,
   "id": "4d9c6c33",
   "metadata": {},
   "outputs": [
    {
     "name": "stdout",
     "output_type": "stream",
     "text": [
      "Shape: (83488, 3)\n",
      "         date  store_nbr  transactions\n",
      "0  2013-01-01         25           770\n",
      "1  2013-01-02          1          2111\n",
      "2  2013-01-02          2          2358\n",
      "3  2013-01-02          3          3487\n",
      "4  2013-01-02          4          1922\n",
      "date            0\n",
      "store_nbr       0\n",
      "transactions    0\n",
      "dtype: int64\n",
      "Date range: 2013-01-01 00:00:00 → 2017-08-15 00:00:00\n"
     ]
    }
   ],
   "source": [
    "transactions = pd.read_csv(r\"C:\\Users\\Yizi\\New folder\\Payday-surge-favorita\\data\\raw\\transactions.csv\")\n",
    "\n",
    "# Inspect\n",
    "print(\"Shape:\", transactions.shape)\n",
    "print(transactions.head())\n",
    "print(transactions.isna().sum())\n",
    "\n",
    "# Dtypes\n",
    "transactions[\"date\"] = pd.to_datetime(transactions[\"date\"], errors=\"coerce\")\n",
    "transactions[\"store_nbr\"] = transactions[\"store_nbr\"].astype(\"int16\")\n",
    "transactions[\"transactions\"] = pd.to_numeric(transactions[\"transactions\"], errors=\"coerce\").astype(\"Int32\")\n",
    "\n",
    "# Checks\n",
    "dupes = transactions.duplicated(subset=[\"store_nbr\", \"date\"]).sum()\n",
    "assert dupes == 0, f\"Duplicate store/date pairs found: {dupes}\"\n",
    "\n",
    "negatives = (transactions[\"transactions\"] < 0).sum()\n",
    "assert negatives == 0, f\"Negative transaction counts found: {negatives}\"\n",
    "\n",
    "date_min, date_max = transactions[\"date\"].min(), transactions[\"date\"].max()\n",
    "print(f\"Date range: {date_min} → {date_max}\")\n",
    "\n",
    "# Save\n",
    "transactions.to_parquet(\"../data/processed/transactions.parquet\", index=False)\n"
   ]
  },
  {
   "cell_type": "markdown",
   "id": "608d32e0",
   "metadata": {},
   "source": [
    "### OIL.CSV (economic indicator)"
   ]
  },
  {
   "cell_type": "markdown",
   "id": "2aa56690",
   "metadata": {},
   "source": [
    "- Convert `date` to datetime, set as index for easier resampling.\n",
    "- Interpolate if missing days."
   ]
  },
  {
   "cell_type": "code",
   "execution_count": 8,
   "id": "e936b91b",
   "metadata": {},
   "outputs": [
    {
     "name": "stdout",
     "output_type": "stream",
     "text": [
      "Shape: (1218, 2)\n",
      "date           0\n",
      "dcoilwtico    43\n",
      "dtype: int64\n",
      "2013-01-01 00:00:00 → 2017-08-31 00:00:00\n",
      "Remaining NAs: 0\n"
     ]
    }
   ],
   "source": [
    "oil = pd.read_csv(r\"C:\\Users\\Yizi\\New folder\\Payday-surge-favorita\\data\\raw\\oil.csv\")\n",
    "\n",
    "# Convert date\n",
    "oil[\"date\"] = pd.to_datetime(oil[\"date\"], errors=\"coerce\")\n",
    "\n",
    "# Basic checks\n",
    "print(\"Shape:\", oil.shape)\n",
    "print(oil.isna().sum())\n",
    "print(oil[\"date\"].min(), \"→\", oil[\"date\"].max())\n",
    "\n",
    "# Sort and set index\n",
    "oil = oil.sort_values(\"date\").set_index(\"date\")\n",
    "\n",
    "# Rename for clarity\n",
    "oil = oil.rename(columns={\"dcoilwtico\": \"oil_price\"})\n",
    "\n",
    "\n",
    "# Fill any remaining edges\n",
    "oil[\"oil_price\"] = oil[\"oil_price\"].ffill().bfill()\n",
    "\n",
    "\n",
    "print(\"Remaining NAs:\", oil[\"oil_price\"].isna().sum())\n",
    "\n",
    "\n",
    "# Reset index for saving\n",
    "oil = oil.reset_index()\n",
    "\n",
    "# Save\n",
    "oil.to_parquet(\"../data/processed/oil.parquet\", index=False)"
   ]
  },
  {
   "cell_type": "markdown",
   "id": "72106376",
   "metadata": {},
   "source": [
    "### HOLIDAYS_EVENTS.CSV"
   ]
  },
  {
   "cell_type": "code",
   "execution_count": null,
   "id": "2a040b91",
   "metadata": {},
   "outputs": [],
   "source": [
    "import pandas as pd\n",
    "from pathlib import Path\n",
    "holidays_events = pd.read_csv(r\"C:\\Users\\Yizi\\New folder\\Payday-surge-favorita\\data\\raw\\holidays_events.csv\")\n",
    "\n",
    "holidays_events[\"date\"] = pd.to_datetime(holidays_events[\"date\"], errors=\"coerce\")\n",
    "\n",
    "# Normalize text\n",
    "for c in [\"type\", \"locale\", \"description\"]:\n",
    "    holidays_events[c] = holidays_events[c].astype(str).str.strip()\n",
    "\n",
    "# Drop originals of transferred holidays\n",
    "holidays_events = holidays_events[~holidays_events[\"transferred\"]]\n",
    "\n",
    "# Define flags\n",
    "holidays_events[\"is_event\"] = holidays_events[\"type\"].str.lower().eq(\"event\")\n",
    "holidays_events[\"is_holiday\"] = holidays_events[\"type\"].isin([\"Holiday\", \"Additional\", \"Bridge\"])\n",
    "holidays_events.loc[holidays_events[\"type\"].eq(\"Work Day\"), \"is_holiday\"] = False  \n",
    "\n",
    "# Collapse by date \n",
    "rank = {\"National\": 3, \"Regional\": 2, \"Local\": 1}\n",
    "holidays_events[\"rank\"] = holidays_events[\"locale\"].map(rank)\n",
    "holidays_events = (holidays_events.sort_values([\"date\", \"rank\"], ascending=[True, False])\n",
    "          .groupby(\"date\", as_index=False)\n",
    "          .agg({\"is_holiday\": \"max\", \"is_event\": \"max\", \"type\": \"first\"}))\n",
    "\n",
    "holidays_events.to_parquet(\"../data/processed/holidays.parquet\", index=False)\n",
    "\n"
   ]
  }
 ],
 "metadata": {
  "kernelspec": {
   "display_name": ".venv",
   "language": "python",
   "name": "python3"
  },
  "language_info": {
   "codemirror_mode": {
    "name": "ipython",
    "version": 3
   },
   "file_extension": ".py",
   "mimetype": "text/x-python",
   "name": "python",
   "nbconvert_exporter": "python",
   "pygments_lexer": "ipython3",
   "version": "3.11.0"
  }
 },
 "nbformat": 4,
 "nbformat_minor": 5
}
