{
 "cells": [
  {
   "cell_type": "markdown",
   "id": "9aecc839",
   "metadata": {},
   "source": [
    "# Causal Impact Analysis\n",
    "- Define treatment (payday periods: 15th & end-of-month)\n",
    "- Pre/post analysis setup\n",
    "- Fit causal impact model\n",
    "- Visualize impact (plots + summary stats)\n",
    "- Interpret results\n"
   ]
  }
 ],
 "metadata": {
  "language_info": {
   "name": "python"
  }
 },
 "nbformat": 4,
 "nbformat_minor": 5
}
