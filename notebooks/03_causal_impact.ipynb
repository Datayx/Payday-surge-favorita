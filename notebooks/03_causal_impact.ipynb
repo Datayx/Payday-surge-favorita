# Causal Impact Analysis
- Define treatment (payday periods: 15th & end-of-month)
- Pre/post analysis setup
- Fit causal impact model
- Visualize impact (plots + summary stats)
- Interpret results
