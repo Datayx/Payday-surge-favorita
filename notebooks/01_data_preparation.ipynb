# Data Preparation
- Import libraries
- Load raw data
- Initial inspection (shape, dtypes, missing values)
- Data cleaning (handle nulls, duplicates, outliers)
- Feature engineering (time features, payday flags, holidays, etc.)
- Save cleaned dataset
