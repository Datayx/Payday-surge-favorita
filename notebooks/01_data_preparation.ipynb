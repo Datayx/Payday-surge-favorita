{
 "cells": [
  {
   "cell_type": "markdown",
   "id": "561a0405",
   "metadata": {},
   "source": [
    "# Data Preparation\n",
    "This notebook handles cleaning, preprocessing, and feature engineering.\n"
   ]
  },
  {
   "cell_type": "code",
   "execution_count": 2,
   "id": "e0421df2",
   "metadata": {},
   "outputs": [
    {
     "name": "stdout",
     "output_type": "stream",
     "text": [
      "✅ Environment is ready!\n"
     ]
    }
   ],
   "source": [
    "import pandas as pd\n",
    "import matplotlib.pyplot as plt\n",
    "import statsmodels.api as sm\n",
    "from causalimpact import CausalImpact\n",
    "\n",
    "print(\"✅ Environment is ready!\")\n"
   ]
  }
 ],
 "metadata": {
  "kernelspec": {
   "display_name": ".venv",
   "language": "python",
   "name": "python3"
  },
  "language_info": {
   "codemirror_mode": {
    "name": "ipython",
    "version": 3
   },
   "file_extension": ".py",
   "mimetype": "text/x-python",
   "name": "python",
   "nbconvert_exporter": "python",
   "pygments_lexer": "ipython3",
   "version": "3.11.0"
  }
 },
 "nbformat": 4,
 "nbformat_minor": 5
}
