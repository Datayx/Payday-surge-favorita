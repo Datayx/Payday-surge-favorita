{
 "cells": [
  {
   "cell_type": "markdown",
   "id": "bec469de",
   "metadata": {},
   "source": [
    "# Exploratory Data Analysis (EDA)\n",
    "- Overview of sales trends\n",
    "- Distribution by product category and store\n",
    "- Seasonality and trends over time\n",
    "- Payday vs non-payday comparisons\n",
    "- Visualizations (line charts, bar plots, heatmaps)\n"
   ]
  }
 ],
 "metadata": {
  "language_info": {
   "name": "python"
  }
 },
 "nbformat": 4,
 "nbformat_minor": 5
}
