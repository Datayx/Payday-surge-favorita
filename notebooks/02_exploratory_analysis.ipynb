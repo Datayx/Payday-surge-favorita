# Exploratory Data Analysis (EDA)
- Overview of sales trends
- Distribution by product category and store
- Seasonality and trends over time
- Payday vs non-payday comparisons
- Visualizations (line charts, bar plots, heatmaps)
